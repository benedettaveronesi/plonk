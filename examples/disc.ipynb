{
 "cells": [
  {
   "cell_type": "markdown",
   "metadata": {},
   "source": [
    "# Reading SPH data\n",
    "\n",
    "Here we demonstrate reading in a collection of Phantom HDF dump files, on which we will perform visualization and analysis."
   ]
  },
  {
   "cell_type": "code",
   "execution_count": null,
   "metadata": {},
   "outputs": [],
   "source": [
    "from plonk.dump import Dump"
   ]
  },
  {
   "cell_type": "markdown",
   "metadata": {},
   "source": [
    "Read the dump files into a list. Each element of the list is a Plonk Dump object."
   ]
  },
  {
   "cell_type": "code",
   "execution_count": null,
   "metadata": {},
   "outputs": [],
   "source": [
    "dump_file_names = ['data/disc_00000.h5']\n",
    "\n",
    "dumps = list()\n",
    "\n",
    "for dump_file_name in dump_file_names:\n",
    "    print(f'Reading {dump_file_name}...')\n",
    "    dump = Dump(dump_file_name)\n",
    "    dumps.append(dump)"
   ]
  },
  {
   "cell_type": "markdown",
   "metadata": {},
   "source": [
    "We can access the dump parameters, i.e. the Phantom header. This is a dictionary with keys given by the Phantom header. For example we can access `hfact`, `alpha`, etc."
   ]
  },
  {
   "cell_type": "code",
   "execution_count": null,
   "metadata": {},
   "outputs": [],
   "source": [
    "hfact = dumps[0].parameters[\"hfact\"]\n",
    "alpha = dumps[0].parameters[\"alpha\"]\n",
    "\n",
    "print(f'hfact = {hfact:.1f}')\n",
    "print(f'alpha = {alpha:.3f}')"
   ]
  },
  {
   "cell_type": "markdown",
   "metadata": {},
   "source": [
    "There is also a dictionary for units where the value is the value of the code units in cgs units."
   ]
  },
  {
   "cell_type": "code",
   "execution_count": null,
   "metadata": {},
   "outputs": [],
   "source": [
    "for key in dumps[0].units:\n",
    "    print(f'{key:20} {dumps[0].units[key]}')"
   ]
  },
  {
   "cell_type": "markdown",
   "metadata": {},
   "source": [
    "The particle data is stored as a Pandas dataframe. Every particle has an `itype`, positions (as `x`, `y`, `z`), mass, smoothing length, and density (computed from the smoothing length), as well as any other quantities stored in the dump file, such as velocity (as `vx`, `vy`, `vz`), dust fraction, and so on. For example, the following shows the first 5 particles of the first dump file."
   ]
  },
  {
   "cell_type": "code",
   "execution_count": null,
   "metadata": {},
   "outputs": [],
   "source": [
    "dumps[0].particles.iloc[:5]"
   ]
  },
  {
   "cell_type": "markdown",
   "metadata": {},
   "source": [
    "Similarly we have access to the sink particle data stored as a Pandas dataframe."
   ]
  },
  {
   "cell_type": "code",
   "execution_count": null,
   "metadata": {},
   "outputs": [],
   "source": [
    "dumps[0].sinks"
   ]
  },
  {
   "cell_type": "markdown",
   "metadata": {},
   "source": [
    "# Analyzing SPH data\n",
    "\n",
    "We can perform analysis on the SPH data. The function `disc_analysis` is equivalent to the Phantom analysis module available in `analysis_disc.f90`."
   ]
  },
  {
   "cell_type": "code",
   "execution_count": null,
   "metadata": {},
   "outputs": [],
   "source": [
    "from plonk.analysis.disc import disc_analysis"
   ]
  },
  {
   "cell_type": "markdown",
   "metadata": {},
   "source": [
    "This analysis assumes a single disc around a single star (represented as a sink particle). We need to define the number of radial bins to average our data, as well as the inner and outer disc radius."
   ]
  },
  {
   "cell_type": "code",
   "execution_count": null,
   "metadata": {},
   "outputs": [],
   "source": [
    "number_radial_bins = 200\n",
    "radius_in          = 1\n",
    "radius_out         = 150"
   ]
  },
  {
   "cell_type": "markdown",
   "metadata": {},
   "source": [
    "The analysis produces a list of Pandas dataframes `radial_averages`. Each datafram has index associated with the radial bin."
   ]
  },
  {
   "cell_type": "code",
   "execution_count": null,
   "metadata": {},
   "outputs": [],
   "source": [
    "radial_averages = list()\n",
    "particles       = list()\n",
    "sinks           = list()\n",
    "\n",
    "for dump in dumps:\n",
    "\n",
    "    print('\\nPerforming disc analysis...\\n')\n",
    "    radial_averages_ = disc_analysis( radius_in          = radius_in,\n",
    "                                      radius_out         = radius_out,\n",
    "                                      number_radial_bins = number_radial_bins,\n",
    "                                      dump               = dump )\n",
    "\n",
    "    radial_averages.append(radial_averages_)"
   ]
  },
  {
   "cell_type": "markdown",
   "metadata": {},
   "source": [
    "Now we can use the data in radial_averages to plot radially averaged quantities such as the surface density profile, or the disc aspect ratio, for example."
   ]
  },
  {
   "cell_type": "code",
   "execution_count": null,
   "metadata": {},
   "outputs": [],
   "source": [
    "import matplotlib.pyplot as plt\n",
    "\n",
    "fig, ax = plt.subplots(2)\n",
    "\n",
    "for df in radial_averages:\n",
    "    ax[0].plot(df['R'], df['sigma'])\n",
    "ax[0].set_xlabel('radius')\n",
    "ax[0].set_ylabel('surface density')\n",
    "\n",
    "for df in radial_averages:\n",
    "    ax[1].plot(df['R'], df['H'])\n",
    "ax[1].set_xlabel('radius')\n",
    "ax[1].set_ylabel('scale height')"
   ]
  },
  {
   "cell_type": "markdown",
   "metadata": {},
   "source": [
    "# Visualizing SPH data\n",
    "\n",
    "We can use highly-optimized Splash interpolation routines to visualize SPH data."
   ]
  },
  {
   "cell_type": "code",
   "execution_count": null,
   "metadata": {},
   "outputs": [],
   "source": [
    "from plonk.visualization.image import Image"
   ]
  },
  {
   "cell_type": "markdown",
   "metadata": {},
   "source": [
    "We create a list of Image objects. One for each dump file."
   ]
  },
  {
   "cell_type": "code",
   "execution_count": null,
   "metadata": {},
   "outputs": [],
   "source": [
    "images = list()\n",
    "for dump in dumps:\n",
    "    images.append(Image(dump))"
   ]
  },
  {
   "cell_type": "markdown",
   "metadata": {},
   "source": [
    "Then we plot, for example, the columns density:"
   ]
  },
  {
   "cell_type": "code",
   "execution_count": null,
   "metadata": {},
   "outputs": [],
   "source": [
    "images[0].plot(render='rho', render_fraction_max=0.05)"
   ]
  },
  {
   "cell_type": "markdown",
   "metadata": {},
   "source": [
    "We can overlay vector fields:"
   ]
  },
  {
   "cell_type": "code",
   "execution_count": null,
   "metadata": {},
   "outputs": [],
   "source": [
    "images[0].plot(render='rho', vector='v', render_fraction_max=0.05)"
   ]
  },
  {
   "cell_type": "markdown",
   "metadata": {},
   "source": [
    "We can rotate about an arbitrary axis:"
   ]
  },
  {
   "cell_type": "code",
   "execution_count": null,
   "metadata": {},
   "outputs": [],
   "source": [
    "images[0].plot(render='rho', rotation_angle=np.pi/3, rotation_axis=[1, 1, 0],\n",
    "               render_fraction_max=0.05)"
   ]
  },
  {
   "cell_type": "markdown",
   "metadata": {},
   "source": [
    "We can take a cross-section:"
   ]
  },
  {
   "cell_type": "code",
   "execution_count": null,
   "metadata": {},
   "outputs": [],
   "source": [
    "images[0].plot(render='rho', rotation_angle=np.pi/2, rotation_axis=[1, 0, 0],\n",
    "               cross_section=True, render_fraction_max=0.01)"
   ]
  },
  {
   "cell_type": "markdown",
   "metadata": {},
   "source": [
    "We can plot the particles. (This is somewhat slow.)"
   ]
  },
  {
   "cell_type": "code",
   "execution_count": null,
   "metadata": {},
   "outputs": [],
   "source": [
    "images[0].plot(horizontal_range=[50, 150], vertical_range=[50, 150])"
   ]
  }
 ],
 "metadata": {
  "kernelspec": {
   "display_name": "Python 3",
   "language": "python",
   "name": "python3"
  },
  "language_info": {
   "codemirror_mode": {
    "name": "ipython",
    "version": 3
   },
   "file_extension": ".py",
   "mimetype": "text/x-python",
   "name": "python",
   "nbconvert_exporter": "python",
   "pygments_lexer": "ipython3",
   "version": "3.7.1"
  }
 },
 "nbformat": 4,
 "nbformat_minor": 2
}
