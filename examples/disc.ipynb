{
 "cells": [
  {
   "cell_type": "markdown",
   "metadata": {},
   "source": [
    "# Reading Phantom HDF5 dumps\n",
    "\n",
    "Here we read in a collection of Phantom HDF5 dump files."
   ]
  },
  {
   "cell_type": "code",
   "execution_count": 1,
   "metadata": {},
   "outputs": [],
   "source": [
    "from plonk.plonk.dump import Dump"
   ]
  },
  {
   "cell_type": "markdown",
   "metadata": {},
   "source": [
    "Read the dump files into a list. Each element of the list is a Plonk Dump object."
   ]
  },
  {
   "cell_type": "code",
   "execution_count": 2,
   "metadata": {},
   "outputs": [],
   "source": [
    "dump_file_names = ['data/disc_00000.h5']\n",
    "\n",
    "dumps = list()\n",
    "\n",
    "for dump_file_name in dump_file_names:\n",
    "    dump = Dump(dump_file_name)\n",
    "    dumps.append(dump)"
   ]
  },
  {
   "cell_type": "markdown",
   "metadata": {},
   "source": [
    "We can access the dump parameters, i.e. the Phantom header. This is a dictionary with keys given by the Phantom header. For example we can access `hfact`, `alpha`, etc."
   ]
  },
  {
   "cell_type": "code",
   "execution_count": 3,
   "metadata": {},
   "outputs": [
    {
     "name": "stdout",
     "output_type": "stream",
     "text": [
      "hfact = 1.0\n",
      "alpha = 0.236\n"
     ]
    }
   ],
   "source": [
    "hfact = dumps[0].parameters[\"hfact\"]\n",
    "alpha = dumps[0].parameters[\"alpha\"]\n",
    "\n",
    "print(f'hfact = {hfact:.1f}')\n",
    "print(f'alpha = {alpha:.3f}')"
   ]
  },
  {
   "cell_type": "markdown",
   "metadata": {},
   "source": [
    "There is also a dictionary for units where the value is the value of the code units in cgs units."
   ]
  },
  {
   "cell_type": "code",
   "execution_count": 4,
   "metadata": {},
   "outputs": [
    {
     "name": "stdout",
     "output_type": "stream",
     "text": [
      "distance             14960000000000.0\n",
      "mass                 1.9891e+33\n",
      "time                 5022728.790082334\n",
      "frequency            1.9909496247827625e-07\n",
      "velocity             2978460.6386750126\n",
      "momentum             5.924456056388467e+39\n",
      "force                1.1795293562508584e+33\n",
      "pressure             5270424.14464802\n",
      "energy               1.1795293562508584e+33\n",
      "density              5.94103125029151e-07\n",
      "surface_density      8887782.7504361\n",
      "angular_momentum     8.862986260357147e+52\n",
      "torque               1.7645759169512842e+46\n"
     ]
    }
   ],
   "source": [
    "for key in dumps[0].units:\n",
    "    print(f'{key:20} {dumps[0].units[key]}')"
   ]
  },
  {
   "cell_type": "markdown",
   "metadata": {},
   "source": [
    "The particle data is stored as a Pandas dataframe. Every particle has an `itype`, positions (as `x`, `y`, `z`), mass, smoothing length, and density (computed from the smoothing length), as well as any other quantities stored in the dump file, such as velocity (as `vx`, `vy`, `vz`), dust fraction, and so on. For example, the following shows the first 5 particles of the first dump file."
   ]
  },
  {
   "cell_type": "code",
   "execution_count": 5,
   "metadata": {},
   "outputs": [
    {
     "data": {
      "text/html": [
       "<div>\n",
       "<style scoped>\n",
       "    .dataframe tbody tr th:only-of-type {\n",
       "        vertical-align: middle;\n",
       "    }\n",
       "\n",
       "    .dataframe tbody tr th {\n",
       "        vertical-align: top;\n",
       "    }\n",
       "\n",
       "    .dataframe thead th {\n",
       "        text-align: right;\n",
       "    }\n",
       "</style>\n",
       "<table border=\"1\" class=\"dataframe\">\n",
       "  <thead>\n",
       "    <tr style=\"text-align: right;\">\n",
       "      <th></th>\n",
       "      <th>itype</th>\n",
       "      <th>x</th>\n",
       "      <th>y</th>\n",
       "      <th>z</th>\n",
       "      <th>h</th>\n",
       "      <th>m</th>\n",
       "      <th>rho</th>\n",
       "      <th>pressure</th>\n",
       "      <th>vx</th>\n",
       "      <th>vy</th>\n",
       "      <th>vz</th>\n",
       "      <th>dustfrac</th>\n",
       "      <th>divv</th>\n",
       "      <th>dt</th>\n",
       "    </tr>\n",
       "  </thead>\n",
       "  <tbody>\n",
       "    <tr>\n",
       "      <th>0</th>\n",
       "      <td>1</td>\n",
       "      <td>-31.269099</td>\n",
       "      <td>-35.027568</td>\n",
       "      <td>-11.247553</td>\n",
       "      <td>1.629258</td>\n",
       "      <td>1.000000e-07</td>\n",
       "      <td>2.312227e-08</td>\n",
       "      <td>8.319090e-12</td>\n",
       "      <td>0.106367</td>\n",
       "      <td>-0.095378</td>\n",
       "      <td>0.0</td>\n",
       "      <td>0.002055</td>\n",
       "      <td>0.001085</td>\n",
       "      <td>9.017928</td>\n",
       "    </tr>\n",
       "    <tr>\n",
       "      <th>1</th>\n",
       "      <td>1</td>\n",
       "      <td>18.982811</td>\n",
       "      <td>130.934768</td>\n",
       "      <td>23.591143</td>\n",
       "      <td>2.426354</td>\n",
       "      <td>1.000000e-07</td>\n",
       "      <td>7.000633e-09</td>\n",
       "      <td>1.509708e-12</td>\n",
       "      <td>-0.082555</td>\n",
       "      <td>0.011762</td>\n",
       "      <td>0.0</td>\n",
       "      <td>0.001227</td>\n",
       "      <td>0.000152</td>\n",
       "      <td>18.035856</td>\n",
       "    </tr>\n",
       "    <tr>\n",
       "      <th>2</th>\n",
       "      <td>1</td>\n",
       "      <td>109.807836</td>\n",
       "      <td>-48.332495</td>\n",
       "      <td>3.099149</td>\n",
       "      <td>2.261923</td>\n",
       "      <td>1.000000e-07</td>\n",
       "      <td>8.641047e-09</td>\n",
       "      <td>1.971924e-12</td>\n",
       "      <td>0.035373</td>\n",
       "      <td>0.080244</td>\n",
       "      <td>0.0</td>\n",
       "      <td>0.010808</td>\n",
       "      <td>-0.000184</td>\n",
       "      <td>18.035856</td>\n",
       "    </tr>\n",
       "    <tr>\n",
       "      <th>3</th>\n",
       "      <td>1</td>\n",
       "      <td>-87.225447</td>\n",
       "      <td>-35.186138</td>\n",
       "      <td>-4.220097</td>\n",
       "      <td>1.752120</td>\n",
       "      <td>1.000000e-07</td>\n",
       "      <td>1.859126e-08</td>\n",
       "      <td>4.790044e-12</td>\n",
       "      <td>0.037253</td>\n",
       "      <td>-0.092721</td>\n",
       "      <td>0.0</td>\n",
       "      <td>0.006507</td>\n",
       "      <td>-0.000011</td>\n",
       "      <td>18.035856</td>\n",
       "    </tr>\n",
       "    <tr>\n",
       "      <th>4</th>\n",
       "      <td>1</td>\n",
       "      <td>-83.974547</td>\n",
       "      <td>4.328364</td>\n",
       "      <td>4.179969</td>\n",
       "      <td>1.609641</td>\n",
       "      <td>1.000000e-07</td>\n",
       "      <td>2.397799e-08</td>\n",
       "      <td>6.533154e-12</td>\n",
       "      <td>-0.005529</td>\n",
       "      <td>-0.105704</td>\n",
       "      <td>0.0</td>\n",
       "      <td>0.014254</td>\n",
       "      <td>-0.000158</td>\n",
       "      <td>18.035856</td>\n",
       "    </tr>\n",
       "  </tbody>\n",
       "</table>\n",
       "</div>"
      ],
      "text/plain": [
       "   itype           x           y          z         h             m  \\\n",
       "0      1  -31.269099  -35.027568 -11.247553  1.629258  1.000000e-07   \n",
       "1      1   18.982811  130.934768  23.591143  2.426354  1.000000e-07   \n",
       "2      1  109.807836  -48.332495   3.099149  2.261923  1.000000e-07   \n",
       "3      1  -87.225447  -35.186138  -4.220097  1.752120  1.000000e-07   \n",
       "4      1  -83.974547    4.328364   4.179969  1.609641  1.000000e-07   \n",
       "\n",
       "            rho      pressure        vx        vy   vz  dustfrac      divv  \\\n",
       "0  2.312227e-08  8.319090e-12  0.106367 -0.095378  0.0  0.002055  0.001085   \n",
       "1  7.000633e-09  1.509708e-12 -0.082555  0.011762  0.0  0.001227  0.000152   \n",
       "2  8.641047e-09  1.971924e-12  0.035373  0.080244  0.0  0.010808 -0.000184   \n",
       "3  1.859126e-08  4.790044e-12  0.037253 -0.092721  0.0  0.006507 -0.000011   \n",
       "4  2.397799e-08  6.533154e-12 -0.005529 -0.105704  0.0  0.014254 -0.000158   \n",
       "\n",
       "          dt  \n",
       "0   9.017928  \n",
       "1  18.035856  \n",
       "2  18.035856  \n",
       "3  18.035856  \n",
       "4  18.035856  "
      ]
     },
     "execution_count": 5,
     "metadata": {},
     "output_type": "execute_result"
    }
   ],
   "source": [
    "dumps[0].particles.iloc[:5]"
   ]
  },
  {
   "cell_type": "markdown",
   "metadata": {},
   "source": [
    "Similarly we have access to the sink particle data stored as a Pandas dataframe."
   ]
  },
  {
   "cell_type": "code",
   "execution_count": 6,
   "metadata": {},
   "outputs": [
    {
     "data": {
      "text/html": [
       "<div>\n",
       "<style scoped>\n",
       "    .dataframe tbody tr th:only-of-type {\n",
       "        vertical-align: middle;\n",
       "    }\n",
       "\n",
       "    .dataframe tbody tr th {\n",
       "        vertical-align: top;\n",
       "    }\n",
       "\n",
       "    .dataframe thead th {\n",
       "        text-align: right;\n",
       "    }\n",
       "</style>\n",
       "<table border=\"1\" class=\"dataframe\">\n",
       "  <thead>\n",
       "    <tr style=\"text-align: right;\">\n",
       "      <th></th>\n",
       "      <th>x</th>\n",
       "      <th>y</th>\n",
       "      <th>z</th>\n",
       "      <th>m</th>\n",
       "      <th>h</th>\n",
       "      <th>hsoft</th>\n",
       "      <th>macc</th>\n",
       "      <th>spinx</th>\n",
       "      <th>spiny</th>\n",
       "      <th>spinz</th>\n",
       "      <th>tlast</th>\n",
       "      <th>vx</th>\n",
       "      <th>vy</th>\n",
       "      <th>vz</th>\n",
       "    </tr>\n",
       "  </thead>\n",
       "  <tbody>\n",
       "    <tr>\n",
       "      <th>0</th>\n",
       "      <td>-3.827373e-15</td>\n",
       "      <td>-4.042294e-14</td>\n",
       "      <td>-8.654111e-15</td>\n",
       "      <td>1.0</td>\n",
       "      <td>1.0</td>\n",
       "      <td>1.0</td>\n",
       "      <td>0.0</td>\n",
       "      <td>0.0</td>\n",
       "      <td>0.0</td>\n",
       "      <td>0.0</td>\n",
       "      <td>0.0</td>\n",
       "      <td>1.529900e-17</td>\n",
       "      <td>-8.085516e-17</td>\n",
       "      <td>0.0</td>\n",
       "    </tr>\n",
       "  </tbody>\n",
       "</table>\n",
       "</div>"
      ],
      "text/plain": [
       "              x             y             z    m    h  hsoft  macc  spinx  \\\n",
       "0 -3.827373e-15 -4.042294e-14 -8.654111e-15  1.0  1.0    1.0   0.0    0.0   \n",
       "\n",
       "   spiny  spinz  tlast            vx            vy   vz  \n",
       "0    0.0    0.0    0.0  1.529900e-17 -8.085516e-17  0.0  "
      ]
     },
     "execution_count": 6,
     "metadata": {},
     "output_type": "execute_result"
    }
   ],
   "source": [
    "dumps[0].sinks"
   ]
  },
  {
   "cell_type": "markdown",
   "metadata": {},
   "source": [
    "# Analyzing Phantom data\n",
    "\n",
    "We can perform analysis on Phantom data. Currently available is a function `disc_analysis` which is equivalent to the Phantom analysis module in `analysis_disc.f90`."
   ]
  },
  {
   "cell_type": "code",
   "execution_count": 7,
   "metadata": {},
   "outputs": [],
   "source": [
    "from plonk.plonk.analysis.disc import disc_analysis"
   ]
  },
  {
   "cell_type": "markdown",
   "metadata": {},
   "source": [
    "This analysis assumes a single disc around a single star (represented as a sink particle). We need to define the number of radial bins to average our data, as well as the inner and outer disc radius."
   ]
  },
  {
   "cell_type": "code",
   "execution_count": 8,
   "metadata": {},
   "outputs": [],
   "source": [
    "number_radial_bins = 150\n",
    "radius_in          = 10\n",
    "radius_out         = 200"
   ]
  },
  {
   "cell_type": "markdown",
   "metadata": {},
   "source": [
    "The analysis produces a list of Pandas dataframes `radial_averages`. Each datafram has index associated with the radial bin."
   ]
  },
  {
   "cell_type": "code",
   "execution_count": 9,
   "metadata": {},
   "outputs": [
    {
     "name": "stdout",
     "output_type": "stream",
     "text": [
      "\n",
      "Performing disc analysis...\n",
      "Assuming the first sink particle is the central star\n"
     ]
    }
   ],
   "source": [
    "radial_averages = list()\n",
    "particles       = list()\n",
    "sinks           = list()\n",
    "\n",
    "for dump in dumps:\n",
    "\n",
    "    print('\\nPerforming disc analysis...')\n",
    "    results = disc_analysis( radius_in          = radius_in,\n",
    "                             radius_out         = radius_out,\n",
    "                             number_radial_bins = number_radial_bins,\n",
    "                             particles          = dump.particles,\n",
    "                             sinks              = dump.sinks,\n",
    "                             parameters         = dump.parameters,\n",
    "                             units              = dump.units )\n",
    "\n",
    "    radial_averages.append(results[0])\n",
    "    particles.      append(results[1])\n",
    "    sinks.          append(results[2])"
   ]
  },
  {
   "cell_type": "markdown",
   "metadata": {},
   "source": [
    "Now we can use the data in radial_averages to plot the disc aspect ratio, for example."
   ]
  },
  {
   "cell_type": "code",
   "execution_count": 10,
   "metadata": {},
   "outputs": [
    {
     "data": {
      "text/plain": [
       "Text(0, 0.5, 'scale height')"
      ]
     },
     "execution_count": 10,
     "metadata": {},
     "output_type": "execute_result"
    },
    {
     "data": {
      "image/png": "[encoded data removed]",
      "text/plain": [
       "<Figure size 432x288 with 1 Axes>"
      ]
     },
     "metadata": {
      "needs_background": "light"
     },
     "output_type": "display_data"
    }
   ],
   "source": [
    "for df in radial_averages:\n",
    "    plt.plot(df['R'], df['H'])\n",
    "plt.xlabel('radius')\n",
    "plt.ylabel('scale height')"
   ]
  },
  {
   "cell_type": "code",
   "execution_count": null,
   "metadata": {},
   "outputs": [],
   "source": []
  }
 ],
 "metadata": {
  "kernelspec": {
   "display_name": "Python 3",
   "language": "python",
   "name": "python3"
  },
  "language_info": {
   "codemirror_mode": {
    "name": "ipython",
    "version": 3
   },
   "file_extension": ".py",
   "mimetype": "text/x-python",
   "name": "python",
   "nbconvert_exporter": "python",
   "pygments_lexer": "ipython3",
   "version": "3.7.1"
  }
 },
 "nbformat": 4,
 "nbformat_minor": 2
}
