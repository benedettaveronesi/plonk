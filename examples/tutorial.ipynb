{
 "cells": [
  {
   "cell_type": "markdown",
   "metadata": {},
   "source": [
    "# Introduction\n",
    "\n",
    "Plonk is a tool for analysis and visualisation of smoothed particle hydrodynamics (SPH) data. To use Plonk we import it directly. You can see what classes and functions are available with the `help` command."
   ]
  },
  {
   "cell_type": "code",
   "execution_count": null,
   "metadata": {},
   "outputs": [],
   "source": [
    "import plonk\n",
    "help(plonk)"
   ]
  },
  {
   "cell_type": "markdown",
   "metadata": {},
   "source": [
    "The following sets the data directory and file prefix for convenience in this notebook"
   ]
  },
  {
   "cell_type": "code",
   "execution_count": null,
   "metadata": {},
   "outputs": [],
   "source": [
    "import pathlib\n",
    "DIRECTORY = pathlib.Path('~/runs/twhya/2018-03-09b').expanduser()\n",
    "PREFIX = 'twhya'"
   ]
  },
  {
   "cell_type": "markdown",
   "metadata": {},
   "source": [
    "## Dump object\n",
    "\n",
    "SPH dump files are represented by the `Dump` class. This object contains a header dictionary, particle arrays, which are represented by an `Arrays` class. Here we demonstrate instantiating a `Dump` object, and accessing the header and particle arrays."
   ]
  },
  {
   "cell_type": "code",
   "execution_count": null,
   "metadata": {},
   "outputs": [],
   "source": [
    "filename = DIRECTORY / (PREFIX + '_00250.h5')\n",
    "dump = plonk.Dump(filename)"
   ]
  },
  {
   "cell_type": "markdown",
   "metadata": {},
   "source": [
    "We can access the dump header as a dictionary."
   ]
  },
  {
   "cell_type": "code",
   "execution_count": null,
   "metadata": {},
   "outputs": [],
   "source": [
    "dump.header"
   ]
  },
  {
   "cell_type": "markdown",
   "metadata": {},
   "source": [
    "The particle arrays are stored in the HDF5 file and accessed as required. I.e. we don't read all the data into memory, although you can if you wish by using the `cache_arrays` method on the `Dump` object."
   ]
  },
  {
   "cell_type": "code",
   "execution_count": null,
   "metadata": {},
   "outputs": [],
   "source": [
    "dump.particles"
   ]
  },
  {
   "cell_type": "markdown",
   "metadata": {},
   "source": [
    "This returns an `Arrays` object which stores particle arrays, and has methods to access the data. For example, see what arrays are stored in the dump file."
   ]
  },
  {
   "cell_type": "code",
   "execution_count": null,
   "metadata": {},
   "outputs": [],
   "source": [
    "dump.particles.fields"
   ]
  },
  {
   "cell_type": "markdown",
   "metadata": {},
   "source": [
    "To access the arrays we use the `arrays` dictionary which contains h5py pointers to the data on disc."
   ]
  },
  {
   "cell_type": "code",
   "execution_count": null,
   "metadata": {},
   "outputs": [],
   "source": [
    "dump.particles.arrays['xyz'][:]"
   ]
  },
  {
   "cell_type": "markdown",
   "metadata": {},
   "source": [
    "If the dump contains sink particles, we can access them in the same way."
   ]
  },
  {
   "cell_type": "code",
   "execution_count": null,
   "metadata": {},
   "outputs": [],
   "source": [
    "dump.sinks.fields"
   ]
  },
  {
   "cell_type": "markdown",
   "metadata": {},
   "source": [
    "## Evolution object\n",
    "\n",
    "SPH simulations usually output data other than dump files. For example, Phantom outputs `.ev` files which contain global data, such as kinetic energy or angular momentum. The data is written more frequently that dump files but the quantity of data is reduced. As such these files are text files.\n",
    "\n",
    "Plonk has the `Evolution` class to represent this data. Here we instantiate an `Evolution` object from either a single file, or a collection of files organised in chronological order."
   ]
  },
  {
   "cell_type": "code",
   "execution_count": null,
   "metadata": {},
   "outputs": [],
   "source": [
    "# Single file Evolution object\n",
    "evfile = DIRECTORY / (PREFIX + '01.ev')\n",
    "print(evfile.name)\n",
    "evol = plonk.Evolution(evfile)"
   ]
  },
  {
   "cell_type": "code",
   "execution_count": null,
   "metadata": {},
   "outputs": [],
   "source": [
    "# Multiple file Evolution object\n",
    "evfiles = [DIRECTORY / (PREFIX + f'{index:02}.ev') for index in [1, 2, 3]]\n",
    "for evfile in evfiles:\n",
    "    print(evfile.name)\n",
    "evol = plonk.Evolution(evfiles)"
   ]
  },
  {
   "cell_type": "markdown",
   "metadata": {},
   "source": [
    "The data is represented by a Pandas `DataFrame`, so we can use the built-in methods from Pandas, such as plotting."
   ]
  },
  {
   "cell_type": "code",
   "execution_count": null,
   "metadata": {},
   "outputs": [],
   "source": [
    "# Accessing the data.\n",
    "evol.data['time'], evol.data['etherm']"
   ]
  },
  {
   "cell_type": "code",
   "execution_count": null,
   "metadata": {},
   "outputs": [],
   "source": [
    "# Plotting quantities against time.\n",
    "evol.plot('xcom', 'ycom')"
   ]
  },
  {
   "cell_type": "markdown",
   "metadata": {},
   "source": [
    "## Simulation object\n",
    "\n",
    "We see that for a single SPH simulation the data is spread over multiple files of multiple types, even though, logically, a simulation is a singular \"object\". In Plonk we have the `Simulation` class to represent the totality of the simulation data. It is an aggregation of the `Dump` and `Evolution` objects, plus metadata, such as the directory on the file system."
   ]
  },
  {
   "cell_type": "code",
   "execution_count": null,
   "metadata": {},
   "outputs": [],
   "source": [
    "sim = plonk.Simulation(prefix=PREFIX, directory=DIRECTORY)\n",
    "\n",
    "# Accessing the Dump objects.\n",
    "sim.dumps"
   ]
  },
  {
   "cell_type": "markdown",
   "metadata": {},
   "source": [
    "# Visualisation\n",
    "\n",
    "## Visualization object\n",
    "\n",
    "The `Visualization` class provides methods to visualise SPH data. Plonk uses Splash for interpolation to a pixel array. Instantiation of a `Visualization` object produces a figure.\n",
    "\n",
    "The following examples produce a rendered image. Each example demonstrates a different method for the user to choose the quantity they wish to render.\n",
    "\n",
    "The first quantity is a string representing the name of the quantity to render. Any scalar dump particle array quantity can be rendered, as well as several predefined extra quantities.\n"
   ]
  },
  {
   "cell_type": "code",
   "execution_count": null,
   "metadata": {},
   "outputs": [],
   "source": [
    "viz = plonk.Visualization(\n",
    "    dump=dump,\n",
    "    render='density',\n",
    "    size=250,\n",
    ")"
   ]
  },
  {
   "cell_type": "markdown",
   "metadata": {},
   "source": [
    "The second example shows an extra quantity to be calculated. We use SymPy to parse the string."
   ]
  },
  {
   "cell_type": "code",
   "execution_count": null,
   "metadata": {},
   "outputs": [],
   "source": [
    "viz = plonk.Visualization(\n",
    "    dump=dump,\n",
    "    render='sqrt(vx**2 + vy**2)',\n",
    "    size=250,\n",
    ")"
   ]
  },
  {
   "cell_type": "markdown",
   "metadata": {},
   "source": [
    "In the final example we show that you can calculate any quantity from the underlying data using NumPy array operations."
   ]
  },
  {
   "cell_type": "code",
   "execution_count": null,
   "metadata": {},
   "outputs": [],
   "source": [
    "# Calculate the deviation from Keplerian velocity.\n",
    "vx = dump.particles.arrays['vxyz'][:, 0]\n",
    "vy = dump.particles.arrays['vxyz'][:, 1]\n",
    "G = plonk.constants.gravitational_constant / (\n",
    "    dump.header['udist'] ** 3\n",
    "    / dump.header['umass']\n",
    "    / dump.header['utime'] ** 2\n",
    ")\n",
    "M = dump.sinks.arrays['m'][0]\n",
    "R = dump.extra_quantity('R')[0]\n",
    "deviation_from_keplerian = np.sqrt(vx ** 2 + vy ** 2) - np.sqrt(G * M / R)"
   ]
  },
  {
   "cell_type": "code",
   "execution_count": null,
   "metadata": {},
   "outputs": [],
   "source": [
    "# Focus on planet location\n",
    "WINDOW_SIZE = 100\n",
    "PLANET_INDEX = 3\n",
    "\n",
    "planet_x = dump.sinks.arrays['xyz'][PLANET_INDEX, 0]\n",
    "planet_y = dump.sinks.arrays['xyz'][PLANET_INDEX, 1]\n",
    "extent = [\n",
    "    planet_x - WINDOW_SIZE / 2,\n",
    "    planet_x + WINDOW_SIZE / 2,\n",
    "    planet_y - WINDOW_SIZE / 2,\n",
    "    planet_y + WINDOW_SIZE / 2,\n",
    "]\n",
    "\n",
    "# Make figure\n",
    "viz = plonk.Visualization(\n",
    "    dump=dump,\n",
    "    render=deviation_from_keplerian,\n",
    "    cross_section=True,\n",
    "    extent=extent,\n",
    "    colormap='RdBu',\n",
    ")"
   ]
  },
  {
   "cell_type": "markdown",
   "metadata": {},
   "source": [
    "We can also visualise vector quantities"
   ]
  },
  {
   "cell_type": "code",
   "execution_count": null,
   "metadata": {},
   "outputs": [],
   "source": [
    "viz = plonk.Visualization(\n",
    "    dump=dump,\n",
    "    vector='velocity',\n",
    "    size=250,\n",
    ")"
   ]
  },
  {
   "cell_type": "markdown",
   "metadata": {},
   "source": [
    "## Visualization methods\n",
    "\n",
    "Once we have the `Visualization` object we can manipulate it. For example, we can rotate the frame around an arbitrary vector."
   ]
  },
  {
   "cell_type": "code",
   "execution_count": null,
   "metadata": {},
   "outputs": [],
   "source": [
    "viz = plonk.Visualization(\n",
    "    dump=dump,\n",
    "    render='density',\n",
    "    size=250,\n",
    ")\n",
    "\n",
    "# Rotate frame around arbitrary vector.\n",
    "viz.rotate_frame(\n",
    "    axis=[1, 1, 0],\n",
    "    angle=np.pi/3\n",
    ")"
   ]
  },
  {
   "cell_type": "markdown",
   "metadata": {},
   "source": [
    "Or change the window size and the particle type, and so on."
   ]
  },
  {
   "cell_type": "code",
   "execution_count": null,
   "metadata": {},
   "outputs": [],
   "source": [
    "viz = plonk.Visualization(\n",
    "    dump=dump,\n",
    "    render='density',\n",
    "    size=250,\n",
    ")\n",
    "\n",
    "# Set particle type.\n",
    "I_DUST = 2\n",
    "viz.set_particle_type(I_DUST)\n",
    "viz.set_image_size(size=90)"
   ]
  },
  {
   "cell_type": "markdown",
   "metadata": {},
   "source": [
    "## MultiPlot\n",
    "\n",
    "TODO\n",
    "\n",
    "## VisualizationIterator\n",
    "\n",
    "TODO\n",
    "\n",
    "# Analysis\n",
    "\n",
    "Plonk can perform analysis on the SPH data. The function `analysis.disc` is equivalent to the Phantom analysis module available in `analysis_disc.f90`, which computes azimuthally-averaged quantities on an accretion disc.\n",
    "\n",
    "This analysis assumes a single disc around a single star (represented as a sink particle). We need to define the number of radial bins to average our data, as well as the inner and outer disc radius."
   ]
  },
  {
   "cell_type": "code",
   "execution_count": null,
   "metadata": {},
   "outputs": [],
   "source": [
    "# Radially bin disc quantities.\n",
    "av = plonk.analysis.disc(\n",
    "    dump=dump,\n",
    "    radius_in=10,\n",
    "    radius_out=200\n",
    ")"
   ]
  },
  {
   "cell_type": "markdown",
   "metadata": {},
   "source": [
    "The analysis produces Pandas `DataFrames` with index associated with the radial bin. We can plot the data using built-in methods, or with Matplotlib."
   ]
  },
  {
   "cell_type": "code",
   "execution_count": null,
   "metadata": {},
   "outputs": [],
   "source": [
    "import matplotlib.pyplot as plt\n",
    "\n",
    "fig, ax = plt.subplots(2)\n",
    "\n",
    "ax[0].plot(av['R'], av['sigma'])\n",
    "ax[0].set_xlabel('Radius')\n",
    "ax[0].set_ylabel('Surface density')\n",
    "\n",
    "ax[1].plot(av['R'], av['H'])\n",
    "ax[1].set_xlabel('Radius')\n",
    "ax[1].set_ylabel('Scale height')"
   ]
  },
  {
   "cell_type": "markdown",
   "metadata": {},
   "source": [
    "# TODO\n",
    "\n",
    "+ units\n",
    "+ where to get data set\n",
    "+ multiplot\n",
    "+ viz iteration"
   ]
  }
 ],
 "metadata": {
  "kernelspec": {
   "display_name": "Python 3",
   "language": "python",
   "name": "python3"
  },
  "language_info": {
   "codemirror_mode": {
    "name": "ipython",
    "version": 3
   },
   "file_extension": ".py",
   "mimetype": "text/x-python",
   "name": "python",
   "nbconvert_exporter": "python",
   "pygments_lexer": "ipython3",
   "version": "3.7.3"
  }
 },
 "nbformat": 4,
 "nbformat_minor": 2
}
